{
  "cells": [
    {
      "cell_type": "markdown",
      "metadata": {
        "id": "6Rbl5uJ5jgDV"
      },
      "source": [
        "## Preparation"
      ]
    },
    {
      "cell_type": "code",
      "execution_count": 39,
      "metadata": {
        "id": "db6-WbWEj6Jp"
      },
      "outputs": [],
      "source": [
        "import os\n",
        "import requests\n",
        "import json\n",
        "import pandas as pd # type: ignore\n",
        "import time\n",
        "import itertools\n",
        "import datetime\n",
        "from dotenv import load_dotenv # type: ignore"
      ]
    },
    {
      "cell_type": "code",
      "execution_count": 40,
      "metadata": {},
      "outputs": [],
      "source": [
        "# read env\n",
        "load_dotenv()\n",
        "apikey = os.getenv(\"APIKey\")"
      ]
    },
    {
      "cell_type": "code",
      "execution_count": 41,
      "metadata": {
        "id": "UHp5kdJaji_e"
      },
      "outputs": [],
      "source": [
        "# uncomment if read in Google Colab\n",
        "# from google.colab import userdata\n",
        "# apikey = userdata.get('apiKey')"
      ]
    },
    {
      "cell_type": "markdown",
      "metadata": {
        "id": "jKtlLV5dimoW"
      },
      "source": [
        "## Using Scopus API"
      ]
    },
    {
      "cell_type": "markdown",
      "metadata": {
        "id": "lm5X8ED7xoCd"
      },
      "source": [
        "Define keywords and ISSN"
      ]
    },
    {
      "cell_type": "code",
      "execution_count": 42,
      "metadata": {
        "id": "pTTn9ftGkDB4"
      },
      "outputs": [],
      "source": [
        "issn = '1743-2774'"
      ]
    },
    {
      "cell_type": "code",
      "execution_count": 43,
      "metadata": {
        "id": "LPfuAqVjsy2Q"
      },
      "outputs": [],
      "source": [
        "# keywords = ['bivariate', 'multivariate', 'visual*', 'carto*', 'geovis*']\n",
        "keywords = ['bivariate', 'multivariate', 'visual*']"
      ]
    },
    {
      "cell_type": "code",
      "execution_count": 51,
      "metadata": {
        "id": "ysXTyLTg5cl8"
      },
      "outputs": [],
      "source": [
        "outputFolder = './temp3'"
      ]
    },
    {
      "cell_type": "markdown",
      "metadata": {
        "id": "0brVud_LjXwS"
      },
      "source": [
        "## Permutations of Search Queries"
      ]
    },
    {
      "cell_type": "code",
      "execution_count": 45,
      "metadata": {
        "id": "_hs_KM4tjaHt"
      },
      "outputs": [],
      "source": [
        "def generateKeywords(keywords, issn):\n",
        "  \"\"\"\n",
        "  Create a list of search queries from permutations and combinations of keywords\n",
        "  \"\"\"\n",
        "\n",
        "  searchQuery = []\n",
        "\n",
        "  # Generate all combinations of 2 first keywords from the list\n",
        "  combinations = list(itertools.combinations(keywords, 2))\n",
        "\n",
        "  # For each combination, generate permutations with the remaining keywords\n",
        "  for combo in combinations:\n",
        "      remaining_keywords = [k for k in keywords if k not in combo]\n",
        "      for keyword in remaining_keywords:\n",
        "          # query = f\"({combo[0]} AND {combo[1]} OR {keyword})\"\n",
        "          query = f\"(TITLE-ABS-KEY(({combo[0]} AND {combo[1]}) OR {keyword}) AND ISSN({issn})) AND (PUBYEAR AFT 2009 AND PUBYEAR BEF 2024)\"\n",
        "          searchQuery.append(query)\n",
        "\n",
        "  return searchQuery"
      ]
    },
    {
      "cell_type": "code",
      "execution_count": 46,
      "metadata": {
        "id": "ezmHnNjOjawN"
      },
      "outputs": [],
      "source": [
        "queryList = generateKeywords(keywords, issn)"
      ]
    },
    {
      "cell_type": "code",
      "execution_count": 47,
      "metadata": {
        "id": "4YDRmjVpx8cM"
      },
      "outputs": [
        {
          "data": {
            "text/plain": [
              "['(TITLE-ABS-KEY((bivariate AND multivariate) OR visual*) AND ISSN(1743-2774)) AND (PUBYEAR AFT 2009 AND PUBYEAR BEF 2024)',\n",
              " '(TITLE-ABS-KEY((bivariate AND visual*) OR multivariate) AND ISSN(1743-2774)) AND (PUBYEAR AFT 2009 AND PUBYEAR BEF 2024)',\n",
              " '(TITLE-ABS-KEY((multivariate AND visual*) OR bivariate) AND ISSN(1743-2774)) AND (PUBYEAR AFT 2009 AND PUBYEAR BEF 2024)']"
            ]
          },
          "execution_count": 47,
          "metadata": {},
          "output_type": "execute_result"
        }
      ],
      "source": [
        "queryList"
      ]
    },
    {
      "cell_type": "markdown",
      "metadata": {
        "id": "ooXwvNcgClkk"
      },
      "source": [
        "## Get the papers"
      ]
    },
    {
      "cell_type": "code",
      "execution_count": 50,
      "metadata": {
        "id": "Mi_eA9h_5R6S"
      },
      "outputs": [],
      "source": [
        "def getPapers(queryList, issn, outputFolder):\n",
        "    # Check if the output dir exists\n",
        "    if not os.path.exists(outputFolder):\n",
        "        os.makedirs(outputFolder)\n",
        "\n",
        "    for query in queryList:\n",
        "        # for every query, search and fetch all results from every page\n",
        "        print(f\"Working on Query: {query}\")\n",
        "        start_index = 0 # start index for pagination\n",
        "        all_papers = [] # store all papers from every page\n",
        "        all_data = [] # store all raw data from every page\n",
        "        batch = 1\n",
        "        index = queryList.index(query)+1\n",
        "\n",
        "        # repeat until all results are fetched from every page\n",
        "        while True:\n",
        "            print(f\"Running batch: {batch} of index {index}\")\n",
        "            url = \"https://api.elsevier.com/content/search/scopus\"\n",
        "            headers = {\n",
        "                \"Accept\": \"application/json\",\n",
        "                \"X-ELS-APIKey\": apikey\n",
        "            }\n",
        "            params = {\n",
        "                \"query\": query,\n",
        "                \"sort\": \"date\",\n",
        "                \"start\": start_index\n",
        "            }\n",
        "\n",
        "            response = requests.get(url, headers=headers, params=params)\n",
        "            # print(f'Response headers.. {response.headers}') # for debugging rate limits\n",
        "            \n",
        "            if response.status_code == 200:\n",
        "                data = json.loads(response.text)\n",
        "                all_data.append(data)\n",
        "\n",
        "                # Extract specified attributes\n",
        "                entries = data['search-results']['entry']\n",
        "                papers = []\n",
        "                for entry in entries:\n",
        "                    paper = {\n",
        "                        \"doi\": entry.get(\"prism:doi\"),\n",
        "                        \"title\": entry.get(\"dc:title\"),\n",
        "                        \"authors\": entry.get(\"dc:creator\"),\n",
        "                        \"year\": entry.get(\"prism:coverDisplayDate\"),\n",
        "                        \"publicationName\": entry.get(\"prism:publicationName\"),\n",
        "                        \"url\": entry.get(\"prism:url\"),\n",
        "                        \"citedby-count\": entry.get(\"citedby-count\")\n",
        "                    }\n",
        "                    papers.append(paper)\n",
        "\n",
        "                # combine all data from paginations\n",
        "                all_papers.extend(papers)\n",
        "                total_results = int(data['search-results']['opensearch:totalResults'])\n",
        "                start_index += 25  # Increase the start index for the next page of results\n",
        "                # print(f\"Search result for this iteration:{start_index} of {total_results}\")\n",
        "                raw_filename = 'raw_'+issn+'_index'+str(index)+'_batch'+str(batch)+'.json'\n",
        "                with open(os.path.join(outputFolder, raw_filename), 'w') as f:\n",
        "                    json.dump(all_data, f)\n",
        "                if start_index > total_results:\n",
        "                    break\n",
        "                time.sleep(60)  # Pause for 60 seconds to deal with rate limits\n",
        "\n",
        "            else:\n",
        "                print(\"Failed to fetch papers.\")\n",
        "                break\n",
        "            batch += 1\n",
        "\n",
        "            # Save all raw data of this search to JSON file\n",
        "            # now = datetime.datetime.now()\n",
        "            # now_time = now.strftime(\"%Y%m%d%H%M\")\n",
        "            # raw_filename = 'raw_'+issn+'_batch'+batch+'.json'\n",
        "            # with open(os.path.join(outputFolder, raw_filename), 'w') as f:\n",
        "            #     json.dump(all_data, f)\n",
        "\n",
        "        # Load all papers from the single search into pandas DataFrame\n",
        "        df = pd.DataFrame(all_papers)\n",
        "        \n",
        "        # Specify the file name of this search\n",
        "        csv_filename = 'papers_'+issn+'_index'+str(index)+'.csv'\n",
        "        csv_file_path = os.path.join(outputFolder, csv_filename)\n",
        "        df.to_csv(csv_file_path)\n",
        "            \n",
        "\n",
        "    # Read the combined CSV file and remove duplicates\n",
        "    if 'doi' in df.columns:\n",
        "        final_df = df.drop_duplicates(subset='doi')\n",
        "        cleaned_csv_filename = 'cleanedPapers_'+issn+'.csv'\n",
        "        final_df.to_csv(os.path.join(outputFolder, cleaned_csv_filename), index=False)\n",
        "\n",
        "    return final_df"
      ]
    },
    {
      "cell_type": "code",
      "execution_count": 52,
      "metadata": {
        "id": "jKZqhW425Wmp"
      },
      "outputs": [
        {
          "name": "stdout",
          "output_type": "stream",
          "text": [
            "Working on Query: (TITLE-ABS-KEY((bivariate AND multivariate) OR visual*) AND ISSN(1743-2774)) AND (PUBYEAR AFT 2009 AND PUBYEAR BEF 2024)\n",
            "Running batch: 1 of index 1\n",
            "Search result for this iteration:25 of 120\n",
            "Running batch: 2 of index 1\n",
            "Search result for this iteration:50 of 120\n",
            "Running batch: 3 of index 1\n",
            "Search result for this iteration:75 of 120\n",
            "Running batch: 4 of index 1\n",
            "Search result for this iteration:100 of 120\n",
            "Running batch: 5 of index 1\n",
            "Search result for this iteration:125 of 120\n",
            "Working on Query: (TITLE-ABS-KEY((bivariate AND visual*) OR multivariate) AND ISSN(1743-2774)) AND (PUBYEAR AFT 2009 AND PUBYEAR BEF 2024)\n",
            "Running batch: 1 of index 2\n",
            "Search result for this iteration:25 of 5\n",
            "Working on Query: (TITLE-ABS-KEY((multivariate AND visual*) OR bivariate) AND ISSN(1743-2774)) AND (PUBYEAR AFT 2009 AND PUBYEAR BEF 2024)\n",
            "Running batch: 1 of index 3\n",
            "Search result for this iteration:25 of 5\n"
          ]
        }
      ],
      "source": [
        "final_dataframe = getPapers(queryList, issn, outputFolder)"
      ]
    },
    {
      "cell_type": "markdown",
      "metadata": {
        "id": "piHBfGry5V5H"
      },
      "source": [
        "---"
      ]
    },
    {
      "cell_type": "code",
      "execution_count": null,
      "metadata": {
        "id": "uRM1Ju6v8vm3"
      },
      "outputs": [],
      "source": [
        "# def getPapers(query, issn, outputFolder, now_time):\n",
        "#   \"\"\"\n",
        "#   Get the papers and raw search data from Scopus API\n",
        "#   \"\"\"\n",
        "#   start_index = 0\n",
        "#   all_papers = []\n",
        "#   all_data = []\n",
        "\n",
        "#   # Check if the output dir exists\n",
        "#   if not os.path.exists(outputFolder):\n",
        "#     os.makedirs(outputFolder)\n",
        "\n",
        "#   while True:\n",
        "#       url = \"https://api.elsevier.com/content/search/scopus\"\n",
        "#       headers = {\n",
        "#           \"Accept\": \"application/json\",\n",
        "#           \"X-ELS-APIKey\": apikey\n",
        "#       }\n",
        "#       params = {\n",
        "#           \"query\": query,\n",
        "#           \"sort\": \"date\",\n",
        "#           \"start\": start_index\n",
        "#       }\n",
        "\n",
        "#       response = requests.get(url, headers=headers, params=params)\n",
        "\n",
        "#       if response.status_code == 200:\n",
        "#           data = json.loads(response.text)\n",
        "\n",
        "#           # Extract specified attributes\n",
        "#           entries = data['search-results']['entry']\n",
        "#           papers = []\n",
        "#           for entry in entries:\n",
        "#               paper = {\n",
        "#                   \"prism:url\": entry.get(\"prism:url\"),\n",
        "#                   \"dc:title\": entry.get(\"dc:title\"),\n",
        "#                   \"dc:creator\": entry.get(\"dc:creator\"),\n",
        "#                   \"prism:publicationName\": entry.get(\"prism:publicationName\"),\n",
        "#                   \"prism:doi\": entry.get(\"prism:doi\"),\n",
        "#                   \"citedby-count\": entry.get(\"citedby-count\")\n",
        "#               }\n",
        "#               papers.append(paper)\n",
        "\n",
        "#           # combine all data from paginations\n",
        "#           all_papers.extend(papers)\n",
        "#           all_data.append(data)\n",
        "#           total_results = int(data['search-results']['opensearch:totalResults'])\n",
        "#           start_index += 25  # Increase the start index for the next page of results\n",
        "#           if start_index >= total_results:\n",
        "#               break\n",
        "#           time.sleep(60)  # Pause for 60 seconds to deal with rate limits\n",
        "#       else:\n",
        "#           print(\"Failed to fetch papers.\")\n",
        "#           break\n",
        "\n",
        "#   # Save all raw data of this search to JSON file\n",
        "#   raw_filename = 'raw_'+issn+'_'+now_time+'.json'\n",
        "#   with open(os.path.join(outputFolder, raw_filename), 'w') as f:\n",
        "#       json.dump(all_data, f)\n",
        "#   # Load all papers from the single search into pandas DataFrame\n",
        "#   csv_filename = 'papers_'+issn+'_'+now_time+'.csv'\n",
        "#   df = pd.DataFrame(all_papers)\n",
        "#   df.to_csv(os.path.join(outputFolder, csv_filename))\n",
        "#   return df"
      ]
    },
    {
      "cell_type": "code",
      "execution_count": null,
      "metadata": {
        "id": "ffVNOEwZx9TR"
      },
      "outputs": [],
      "source": [
        "# def searchByQueries(queryList, issn, outputFolder):\n",
        "#   dataframes = []\n",
        "#   for query in queryList:\n",
        "#     df = getPapers(query, issn, outputFolder)\n",
        "#     dataframes.append(df)\n",
        "#     # pause after each query to prevent API overload\n",
        "#     time.sleep(100)\n",
        "\n",
        "#   combined_df = pd.concat(dataframes)\n",
        "#   final_df = combined_df.drop_duplicates(subset='doi')\n",
        "\n",
        "#   now = datetime.datetime.now()\n",
        "#   now_time = now.strftime(\"%Y%m%d%H%M\")\n",
        "#   cleaned_csv_filename = 'cleanedPapers_'+issn+'_'+now_time+'.csv'\n",
        "\n",
        "#   df.to_csv(os.path.join(outputFolder, cleaned_csv_filename))\n",
        "#   return final_df"
      ]
    }
  ],
  "metadata": {
    "colab": {
      "provenance": []
    },
    "kernelspec": {
      "display_name": "Python 3",
      "name": "python3"
    },
    "language_info": {
      "codemirror_mode": {
        "name": "ipython",
        "version": 3
      },
      "file_extension": ".py",
      "mimetype": "text/x-python",
      "name": "python",
      "nbconvert_exporter": "python",
      "pygments_lexer": "ipython3",
      "version": "3.9.13"
    }
  },
  "nbformat": 4,
  "nbformat_minor": 0
}
