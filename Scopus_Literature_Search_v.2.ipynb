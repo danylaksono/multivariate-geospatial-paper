{
  "cells": [
    {
      "cell_type": "markdown",
      "metadata": {
        "id": "6Rbl5uJ5jgDV"
      },
      "source": [
        "## Preparation"
      ]
    },
    {
      "cell_type": "code",
      "execution_count": 158,
      "metadata": {
        "id": "db6-WbWEj6Jp"
      },
      "outputs": [],
      "source": [
        "import os\n",
        "import requests\n",
        "import json\n",
        "import pandas as pd # type: ignore\n",
        "import time\n",
        "import itertools\n",
        "# import datetime\n",
        "from dotenv import load_dotenv # type: ignore"
      ]
    },
    {
      "cell_type": "code",
      "execution_count": 159,
      "metadata": {},
      "outputs": [],
      "source": [
        "# read env\n",
        "load_dotenv()\n",
        "apikey = os.getenv(\"APIKey\")"
      ]
    },
    {
      "cell_type": "code",
      "execution_count": 160,
      "metadata": {
        "id": "UHp5kdJaji_e"
      },
      "outputs": [],
      "source": [
        "# uncomment if used in Google Colab. Setup the API key in Google Colab (see README.md)\n",
        "# from google.colab import userdata\n",
        "# apikey = userdata.get('apiKey')"
      ]
    },
    {
      "cell_type": "markdown",
      "metadata": {
        "id": "jKtlLV5dimoW"
      },
      "source": [
        "## Using Scopus API"
      ]
    },
    {
      "cell_type": "markdown",
      "metadata": {
        "id": "lm5X8ED7xoCd"
      },
      "source": [
        "Define keywords and ISSN"
      ]
    },
    {
      "cell_type": "code",
      "execution_count": 161,
      "metadata": {
        "id": "pTTn9ftGkDB4"
      },
      "outputs": [],
      "source": [
        "# See list of ISSN in 'Database of Sources.csv'\n",
        "issn = '1743-2774' # Cartographic Journal\n",
        "# issn = '1365-8816' # IJGIS\n",
        "# issn = '1467-9671' # Transactions in GIS\n",
        "# issn = '1077-2626' # TVCG\n",
        "# issn = '2165-8773' # PacivicVIS\n",
        "# issn = '1062-9432' # ACM CHI\n",
        "# issn = '1753-8955' # IJDE\n",
        "# issn = '1744-5647' # Journal of Maps\n",
        "# issn = '1946-7729' # ACM SIGSPATIAL\n",
        "# issn = '1948-660X' #JOSIS\n",
        "# issn = '2570-2084' # The Advances in Cartography and GIScience\n",
        "# issn = '2220-9964' # IJGI\n",
        "# issn = '1523-0406' # Cartography and Geographic Information Science\n",
        "# issn = '1048-9053' # Cartographic Perspective\n",
        "# issn = '2372-9333' # International Journal of Cartography\n",
        "issn = '0317-7173' # Cartographica\n"
      ]
    },
    {
      "cell_type": "code",
      "execution_count": 162,
      "metadata": {
        "id": "LPfuAqVjsy2Q"
      },
      "outputs": [],
      "source": [
        "keywords = ['carto*', 'visual*', 'geovis*'] # multivariate OR bivariate are always included \n",
        "# keywords = ['bivariate', 'multivariate', 'visual*', 'carto*', 'geovis*']\n",
        "# keywords = ['bivariate', 'multivariate', 'visual*'] # for testing"
      ]
    },
    {
      "cell_type": "markdown",
      "metadata": {
        "id": "0brVud_LjXwS"
      },
      "source": [
        "## Permutations of Search Queries"
      ]
    },
    {
      "cell_type": "code",
      "execution_count": 163,
      "metadata": {
        "id": "_hs_KM4tjaHt"
      },
      "outputs": [],
      "source": [
        "def generateKeywords(keywords, issn):\n",
        "  \"\"\"\n",
        "  Create a list of search queries from permutations and combinations of keywords\n",
        "  \"\"\"\n",
        "\n",
        "  searchQuery = []\n",
        "\n",
        "  # Generate all combinations of 2 first keywords from the list\n",
        "  combinations = list(itertools.combinations(keywords, 2))\n",
        "\n",
        "  # For each combination, generate permutations with the remaining keywords\n",
        "  for combo in combinations:\n",
        "      remaining_keywords = [k for k in keywords if k not in combo]\n",
        "      for keyword in remaining_keywords:\n",
        "          # query = f\"({combo[0]} AND {combo[1]} OR {keyword})\"\n",
        "          query = f\"(TITLE-ABS-KEY((multivariate OR bivariate) AND (({combo[0]} AND {combo[1]}) OR {keyword})) AND ISSN({issn})) AND (PUBYEAR AFT 2009 AND PUBYEAR BEF 2024)\"\n",
        "          searchQuery.append(query)\n",
        "\n",
        "  return searchQuery"
      ]
    },
    {
      "cell_type": "code",
      "execution_count": 164,
      "metadata": {
        "id": "ezmHnNjOjawN"
      },
      "outputs": [],
      "source": [
        "queryList = generateKeywords(keywords, issn)"
      ]
    },
    {
      "cell_type": "code",
      "execution_count": 165,
      "metadata": {
        "id": "4YDRmjVpx8cM"
      },
      "outputs": [
        {
          "data": {
            "text/plain": [
              "['(TITLE-ABS-KEY((multivariate OR bivariate) AND ((carto* AND visual*) OR geovis*)) AND ISSN(0317-7173)) AND (PUBYEAR AFT 2009 AND PUBYEAR BEF 2024)',\n",
              " '(TITLE-ABS-KEY((multivariate OR bivariate) AND ((carto* AND geovis*) OR visual*)) AND ISSN(0317-7173)) AND (PUBYEAR AFT 2009 AND PUBYEAR BEF 2024)',\n",
              " '(TITLE-ABS-KEY((multivariate OR bivariate) AND ((visual* AND geovis*) OR carto*)) AND ISSN(0317-7173)) AND (PUBYEAR AFT 2009 AND PUBYEAR BEF 2024)']"
            ]
          },
          "execution_count": 165,
          "metadata": {},
          "output_type": "execute_result"
        }
      ],
      "source": [
        "queryList"
      ]
    },
    {
      "cell_type": "markdown",
      "metadata": {
        "id": "ooXwvNcgClkk"
      },
      "source": [
        "## Get the papers"
      ]
    },
    {
      "cell_type": "code",
      "execution_count": 166,
      "metadata": {
        "id": "Mi_eA9h_5R6S"
      },
      "outputs": [],
      "source": [
        "def getPapers(queryList, issn):\n",
        "    \"\"\"\n",
        "    get papers from Scopus API for all queries in the list\n",
        "    \"\"\"\n",
        "\n",
        "    outputFolder = os.path.join(os.getcwd(), 'output', issn)\n",
        "\n",
        "    # Check if the output dir exists\n",
        "    if not os.path.exists(outputFolder):\n",
        "        os.makedirs(outputFolder)\n",
        "\n",
        "    for query in queryList:\n",
        "        # for every query, search and fetch all results from every page\n",
        "        print(f\"\\nWorking on Query: {query}\")\n",
        "        start_index = 0 # start index for pagination\n",
        "        all_papers = [] # store all papers from every page\n",
        "        all_data = [] # store all raw data from every page\n",
        "        batch = 1\n",
        "        index = queryList.index(query)+1\n",
        "\n",
        "        # repeat until all results are fetched from every page\n",
        "        while True:\n",
        "            print(f\"   Running batch: {batch} from query {index}\")\n",
        "            url = \"https://api.elsevier.com/content/search/scopus\"\n",
        "            headers = {\n",
        "                \"Accept\": \"application/json\",\n",
        "                \"X-ELS-APIKey\": apikey\n",
        "            }\n",
        "            params = {\n",
        "                \"query\": query,\n",
        "                \"sort\": \"date\",\n",
        "                \"start\": start_index\n",
        "            }\n",
        "\n",
        "            response = requests.get(url, headers=headers, params=params)\n",
        "            # print(f'Response headers.. {response.headers}') # for debugging rate limits\n",
        "            \n",
        "            if response.status_code == 200:\n",
        "                data = json.loads(response.text)\n",
        "                all_data.append(data)\n",
        "\n",
        "                # Extract specified attributes\n",
        "                entries = data['search-results']['entry']\n",
        "                papers = []\n",
        "                for entry in entries:\n",
        "                    paper = {\n",
        "                        \"doi\": entry.get(\"prism:doi\"),\n",
        "                        \"title\": entry.get(\"dc:title\"),\n",
        "                        \"authors\": entry.get(\"dc:creator\"),\n",
        "                        \"year\": entry.get(\"prism:coverDisplayDate\"),\n",
        "                        \"publicationName\": entry.get(\"prism:publicationName\"),\n",
        "                        \"url\": entry.get(\"prism:url\"),\n",
        "                        \"citedby-count\": entry.get(\"citedby-count\")\n",
        "                    }\n",
        "                    papers.append(paper)\n",
        "\n",
        "                # combine all data from paginations\n",
        "                all_papers.extend(papers)\n",
        "                total_results = int(data['search-results']['opensearch:totalResults'])\n",
        "                start_index += 25  # Increase the start index for the next page of results\n",
        "                print(f\"Search result for this iteration: page {start_index} from {total_results}\")\n",
        "                \n",
        "                # Save all raw data of this search to JSON file\n",
        "                raw_filename = 'raw_'+issn+'_index'+str(index)+'_batch'+str(batch)+'.json'\n",
        "                with open(os.path.join(outputFolder, raw_filename), 'w') as f:\n",
        "                    json.dump(all_data, f)\n",
        "                if start_index > total_results:\n",
        "                    break\n",
        "                time.sleep(60)  # Pause for 60 seconds to deal with rate limits\n",
        "            else:\n",
        "                print(\"Failed to fetch papers.\")\n",
        "                break\n",
        "            batch += 1\n",
        "\n",
        "        # Load all papers from the single search into pandas DataFrame\n",
        "        df = pd.DataFrame(all_papers)\n",
        "        \n",
        "        # Specify the file name of this search\n",
        "        csv_filename = 'papers_'+issn+'_index'+str(index)+'.csv'\n",
        "        csv_file_path = os.path.join(outputFolder, csv_filename)\n",
        "        df.to_csv(csv_file_path)\n",
        "                \n",
        "    # return final_df\n",
        "    dfs = []\n",
        "    # Loop over all files in the directory\n",
        "    for filename in os.listdir(outputFolder):\n",
        "        # Check if the file is a CSV file\n",
        "        if filename.endswith('.csv'):\n",
        "            print(f\"Reading file: {filename}\")\n",
        "            filepath = os.path.join(outputFolder, filename)\n",
        "            df_file = pd.read_csv(filepath)\n",
        "            dfs.append(df_file)\n",
        "\n",
        "    combined_df = pd.concat(dfs, ignore_index=True)\n",
        "    final_df = combined_df.drop_duplicates(subset='doi')\n",
        "    cleaned_csv_filename = 'cleanedPapers_'+issn+'.csv'\n",
        "    final_df.to_csv(os.path.join(outputFolder, cleaned_csv_filename), index=False)\n",
        "    print(f\"Total papers found: {len(final_df)}\")\n",
        "\n",
        "    return final_df"
      ]
    },
    {
      "cell_type": "code",
      "execution_count": 167,
      "metadata": {
        "id": "jKZqhW425Wmp"
      },
      "outputs": [
        {
          "name": "stdout",
          "output_type": "stream",
          "text": [
            "\n",
            "Working on Query: (TITLE-ABS-KEY((multivariate OR bivariate) AND ((carto* AND visual*) OR geovis*)) AND ISSN(0317-7173)) AND (PUBYEAR AFT 2009 AND PUBYEAR BEF 2024)\n",
            "   Running batch: 1 from query 1\n"
          ]
        },
        {
          "name": "stdout",
          "output_type": "stream",
          "text": [
            "Search result for this iteration: page 25 from 1\n",
            "\n",
            "Working on Query: (TITLE-ABS-KEY((multivariate OR bivariate) AND ((carto* AND geovis*) OR visual*)) AND ISSN(0317-7173)) AND (PUBYEAR AFT 2009 AND PUBYEAR BEF 2024)\n",
            "   Running batch: 1 from query 2\n",
            "Search result for this iteration: page 25 from 1\n",
            "\n",
            "Working on Query: (TITLE-ABS-KEY((multivariate OR bivariate) AND ((visual* AND geovis*) OR carto*)) AND ISSN(0317-7173)) AND (PUBYEAR AFT 2009 AND PUBYEAR BEF 2024)\n",
            "   Running batch: 1 from query 3\n",
            "Search result for this iteration: page 25 from 1\n",
            "Reading file: papers_0317-7173_index2.csv\n",
            "Reading file: papers_0317-7173_index1.csv\n",
            "Reading file: cleanedPapers_0317-7173.csv\n",
            "Reading file: papers_0317-7173_index3.csv\n",
            "Total papers found: 1\n"
          ]
        }
      ],
      "source": [
        "final_dataframe = getPapers(queryList, issn)"
      ]
    },
    {
      "cell_type": "markdown",
      "metadata": {
        "id": "piHBfGry5V5H"
      },
      "source": [
        "---"
      ]
    }
  ],
  "metadata": {
    "colab": {
      "provenance": []
    },
    "kernelspec": {
      "display_name": "Python 3",
      "name": "python3"
    },
    "language_info": {
      "codemirror_mode": {
        "name": "ipython",
        "version": 3
      },
      "file_extension": ".py",
      "mimetype": "text/x-python",
      "name": "python",
      "nbconvert_exporter": "python",
      "pygments_lexer": "ipython3",
      "version": "3.9.13"
    }
  },
  "nbformat": 4,
  "nbformat_minor": 0
}
